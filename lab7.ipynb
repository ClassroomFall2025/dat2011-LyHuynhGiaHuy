{
 "cells": [
  {
   "cell_type": "markdown",
   "id": "fdeff819",
   "metadata": {},
   "source": [
    "# Sinh Viên thực hiện Lab 7 ở Đây"
   ]
  },
  {
   "cell_type": "markdown",
   "id": "acc5d7dc",
   "metadata": {},
   "source": [
    "## Lab 7 - Bài 1"
   ]
  },
  {
   "cell_type": "code",
   "execution_count": null,
   "id": "001e0507",
   "metadata": {},
   "outputs": [],
   "source": [
    "# Code lab 7 bài 1 ở đây\n",
    "A = open(\"DAT2011-Lab7-resource.txt\", \"r\", encoding=\"utf-8\")\n",
    "print(A)\n",
    "print(A.read(9))\n",
    "print(A.readline(2))\n",
    "A.close\n"
   ]
  },
  {
   "cell_type": "markdown",
   "id": "c0835310",
   "metadata": {},
   "source": [
    "## Lab 7 - Bài 2"
   ]
  },
  {
   "cell_type": "code",
   "execution_count": null,
   "id": "fa9cb39f",
   "metadata": {},
   "outputs": [],
   "source": [
    "# Code lab 7  bài 2 ở đây\n",
    "A = open(\"Lab7_resource2.txt\", \"a,r\")\n",
    "A.write(\"Nếu một mai tôi bay lên trời \" \\\n",
    "\"Thì người ơi tui đã sống rất thảnh thơi\" \\\n",
    "\"Nếu một mai tui có đi qua đời\" \\\n",
    "\"Thì người ơi tôi đã sống rất tuyệt vời\")\n",
    "A.close\n",
    "print(A.read())\n"
   ]
  },
  {
   "cell_type": "markdown",
   "id": "0f2483fe",
   "metadata": {},
   "source": [
    "## Lab 7 - Bài 3"
   ]
  },
  {
   "cell_type": "code",
   "execution_count": null,
   "id": "7034990b",
   "metadata": {},
   "outputs": [],
   "source": [
    "# Code lab 7  bài 3 ở đây\n",
    "import csv\n",
    "with open(\"A.csv\", \"w\", encoding=\"utf-8\") as file:\n",
    "    T = csv.T(file)\n",
    "    T.writerow([\"Tiêu đề\" ,\"Tên tác giả\", \"Năm sáng tác\"])\n",
    "    for i in range(5):\n",
    "        TD = input(f\"Nhập tiêu đề bài thơ {i+1}: \")\n",
    "        TG = input(\"Nhập tên tác giả\")\n",
    "        N = input(\"Nhập năm sác tác\")\n",
    "        T.writerow([TD, TG, N])\n",
    "print(\"Đã ghi thông tin 5 bài thơ vào file\")\n",
    "\n"
   ]
  },
  {
   "cell_type": "markdown",
   "id": "d36ea3d3",
   "metadata": {},
   "source": [
    "## Lab 7 - Bài 4"
   ]
  },
  {
   "cell_type": "code",
   "execution_count": null,
   "id": "4c707ec1",
   "metadata": {},
   "outputs": [],
   "source": [
    "# code lab 7 bài 4 ở đây\n",
    "\n"
   ]
  },
  {
   "cell_type": "markdown",
   "id": "e2b41d4a",
   "metadata": {},
   "source": [
    "## Lab 7 - Bài 5: bài tập làm thêm"
   ]
  },
  {
   "cell_type": "code",
   "execution_count": null,
   "id": "0e0172f7",
   "metadata": {},
   "outputs": [],
   "source": [
    "# code lab 7  bài làm thêm ở đây "
   ]
  }
 ],
 "metadata": {
  "kernelspec": {
   "display_name": "Python 3",
   "language": "python",
   "name": "python3"
  },
  "language_info": {
   "name": "python",
   "version": "3.13.2"
  }
 },
 "nbformat": 4,
 "nbformat_minor": 5
}
