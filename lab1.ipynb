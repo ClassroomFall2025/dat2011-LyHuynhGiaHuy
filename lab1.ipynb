{
 "cells": [
  {
   "cell_type": "markdown",
   "id": "fdeff819",
   "metadata": {},
   "source": [
    "# Sinh Viên thực hiện Lab 1 ở Đây"
   ]
  },
  {
   "cell_type": "markdown",
   "id": "acc5d7dc",
   "metadata": {},
   "source": [
    "## Lab 1 - Bài 1"
   ]
  },
  {
   "cell_type": "code",
   "execution_count": 1,
   "id": "001e0507",
   "metadata": {},
   "outputs": [
    {
     "name": "stdout",
     "output_type": "stream",
     "text": [
      "Lý Huỳnh Gia Huy\n",
      "Tôi đến từ Đồng Nai\n",
      "Tôi đang học ngành Xử Lý Dữ Liệu\n"
     ]
    }
   ],
   "source": [
    "# Code lab 1 bài 1 ở đây\n",
    "print(\"Lý Huỳnh Gia Huy\")\n",
    "print(\"Tôi đến từ Đồng Nai\")\n",
    "print(\"Tôi đang học ngành Xử Lý Dữ Liệu\")"
   ]
  },
  {
   "cell_type": "markdown",
   "id": "c0835310",
   "metadata": {},
   "source": [
    "## Lab 1 - Bài 2"
   ]
  },
  {
   "cell_type": "code",
   "execution_count": 9,
   "id": "fa9cb39f",
   "metadata": {},
   "outputs": [
    {
     "name": "stdout",
     "output_type": "stream",
     "text": [
      "Chu vi = 30.0\n",
      "Diện tích =  54.0\n"
     ]
    }
   ],
   "source": [
    "# Code lab 1 bài 2 ở đây \n",
    "ChieuDai = float(input(\"Nhập chieu dai\"))\n",
    "ChieuRong = float(input(\"Nhập chieu rong\"))\n",
    "ChuVi=(ChieuDai+ChieuRong)*(2)\n",
    "DienTich=(ChieuDai*ChieuRong)\n",
    "print(\"Chu vi =\",ChuVi)\n",
    "print(\"Diện tích = \",DienTich)\n",
    "\n"
   ]
  },
  {
   "cell_type": "code",
   "execution_count": null,
   "id": "3a10c7b5",
   "metadata": {},
   "outputs": [],
   "source": []
  },
  {
   "cell_type": "markdown",
   "id": "0f2483fe",
   "metadata": {},
   "source": [
    "## Lab 1 - Bài 3"
   ]
  },
  {
   "cell_type": "code",
   "execution_count": 19,
   "id": "7034990b",
   "metadata": {},
   "outputs": [
    {
     "name": "stdout",
     "output_type": "stream",
     "text": [
      "\"...\n",
      "Sống không giận, không hờn không oán trách\n",
      "Sống mỉm cười, với thử thách chông gai\n",
      "Sống vươn lên, theo kịp ánh ban mai\n",
      "Sống chan hòa, với những người chung sống.\n",
      "\n",
      "Sống là động, nhứng trong lòng luôn bất động\n",
      "Sống là thương, nhứng trong lòng chẳng vấn vương\n",
      "Sống yên vui, danh lợi mãi coi thường\n",
      "Tâm bất biến giữa dòng đời vạn biến.\n",
      "...\"\n"
     ]
    }
   ],
   "source": [
    "# Code lab 1  bài 3 ở đây\n",
    "S = \"Sống\"\n",
    "print(\"\\\"...\")\n",
    "print(f\"{S} không giận, không hờn không oán trách\")\n",
    "print(f\"{S} mỉm cười, với thử thách chông gai\")  \n",
    "print(f\"{S} vươn lên, theo kịp ánh ban mai\")\n",
    "print(f\"{S} chan hòa, với những người chung sống.\")\n",
    "print(\"\")\n",
    "print(f\"{S} là động, nhứng trong lòng luôn bất động\")\n",
    "print(f\"{S} là thương, nhứng trong lòng chẳng vấn vương\")\n",
    "print(f\"{S} yên vui, danh lợi mãi coi thường\")\n",
    "print(\"Tâm bất biến giữa dòng đời vạn biến.\")\n",
    "print(\"...\\\"\")\n"
   ]
  },
  {
   "cell_type": "markdown",
   "id": "d36ea3d3",
   "metadata": {},
   "source": [
    "## Lab 1 - Bài 4"
   ]
  },
  {
   "cell_type": "code",
   "execution_count": 16,
   "id": "4c707ec1",
   "metadata": {},
   "outputs": [
    {
     "name": "stdout",
     "output_type": "stream",
     "text": [
      "Căn Delta 8.426149773176359\n"
     ]
    }
   ],
   "source": [
    "# code lab 1 bài 4 ở đây\n",
    "import math\n",
    "a = float(input())\n",
    "b = float(input())\n",
    "c = float(input())\n",
    "delta = b*b-4*a*c\n",
    "\n",
    "can = math.sqrt(abs(delta))\n",
    "print(\"Căn Delta\",can)\n"
   ]
  },
  {
   "cell_type": "markdown",
   "id": "e2b41d4a",
   "metadata": {},
   "source": [
    "## Lab 1 - Bài 5: bài tập làm thêm"
   ]
  },
  {
   "cell_type": "code",
   "execution_count": null,
   "id": "0e0172f7",
   "metadata": {},
   "outputs": [
    {
     "name": "stdout",
     "output_type": "stream",
     "text": [
      "Cộng =  60.0\n",
      "Trừ =  30.0\n",
      "Chia =  3.0\n",
      "Nhân =  675.0\n",
      "X^Y =  6.283298708943146e+24\n",
      "Căn X =  6.708203932499369\n",
      "CosX =  0.7071067811865476\n",
      "SinX =  0.7071067811865476\n",
      "TanX =  0.9999999999999999\n"
     ]
    }
   ],
   "source": [
    "# code lab 1  bài làm thêm ở đây\n",
    "import math\n",
    "X = float(input())\n",
    "Y = float(input())\n",
    "# Phép tính cơ bản \n",
    "C = X + Y\n",
    "T = X - Y\n",
    "Ch = X / Y\n",
    "N = X * Y\n",
    "print(\"Cộng = \",C)\n",
    "print(\"Trừ = \",T)\n",
    "print(\"Chia = \",Ch)\n",
    "print(\"Nhân = \",N)\n",
    "# Lũy thừa \n",
    "M = X**Y\n",
    "print(\"X^Y = \",M)\n",
    "# Căn bậc 2 \n",
    "Can = math.sqrt(abs(X))\n",
    "print(\"Căn X = \",Can)\n",
    "# Hàm lượng giác \n",
    "R = math.radians(X)\n",
    "SX = math.sin(R)\n",
    "CX = math.cos(R)\n",
    "TX = math.tan(R)\n",
    "print(\"CosX = \",CX)\n",
    "print(\"SinX = \",SX)\n",
    "print(\"TanX = \",TX)\n",
    "# Logarit\n",
    "CS = float(input())\n",
    "Log10 = math.log10(X)\n",
    "Ln = math.log(X)\n",
    "CSTC = math.log(X,CS)\n",
    "print(\"Log10X = \",Log10)\n",
    "print(\"Ln = \",Ln)\n",
    "print(\"Log cơ số tùy chọn = \",CSTC)\n",
    "\n",
    "\n",
    "\n",
    "\n",
    "\n",
    "\n",
    "\n"
   ]
  }
 ],
 "metadata": {
  "kernelspec": {
   "display_name": "Python 3",
   "language": "python",
   "name": "python3"
  },
  "language_info": {
   "codemirror_mode": {
    "name": "ipython",
    "version": 3
   },
   "file_extension": ".py",
   "mimetype": "text/x-python",
   "name": "python",
   "nbconvert_exporter": "python",
   "pygments_lexer": "ipython3",
   "version": "3.13.7"
  }
 },
 "nbformat": 4,
 "nbformat_minor": 5
}
