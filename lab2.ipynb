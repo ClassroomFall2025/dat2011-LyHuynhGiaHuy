{
 "cells": [
  {
   "cell_type": "markdown",
   "id": "fdeff819",
   "metadata": {},
   "source": [
    "# Sinh Viên thực hiện Lab 2 ở Đây"
   ]
  },
  {
   "cell_type": "markdown",
   "id": "acc5d7dc",
   "metadata": {},
   "source": [
    "## Lab 2 - Bài 1"
   ]
  },
  {
   "cell_type": "code",
   "execution_count": null,
   "id": "001e0507",
   "metadata": {},
   "outputs": [],
   "source": [
    "# Code lab 2 bài 1 ở đây\n",
    "BaiTho=\"\"\"\n",
    "Kiếp con người mỏng manh như là gió\n",
    "Sống trên đời có được mấy lần vui\n",
    "Sao phải đau mà không thể mỉm cười\n",
    "Gắng buông nỗi ngậm ngùi nơi quá khứ\n",
    "\n",
    "Nếu có thể sao ta không làm thử\n",
    "Để tâm hồn khắc hai chữ bình an\n",
    "Cho đôi chân bước thanh thản nhẹ nhàng\n",
    "Dù hướng đời có muôn ngàn đá sỏi\n",
    "\"\"\"\n",
    "TimKiem = \"con người\" in BaiTho\n",
    "print(\"từ con người có trong bài thơ\",TimKiem)\n",
    "TuTimKiem = input \n",
    "index1 = BaiTho.find(\"con người\")\n",
    "index2= index1 + len(\"con người\")\n",
    "TuTimKiemKQ = BaiTho[index1 : index2]\n",
    "print(\"Kết quả\",TuTimKiemKQ)\n",
    "print(\"Chữ hoa = \",index1.upper())\n"
   ]
  },
  {
   "cell_type": "code",
   "execution_count": null,
   "id": "fd74d124",
   "metadata": {},
   "outputs": [],
   "source": []
  },
  {
   "cell_type": "markdown",
   "id": "c0835310",
   "metadata": {},
   "source": [
    "## Lab 2 - Bài 2"
   ]
  },
  {
   "cell_type": "code",
   "execution_count": 1,
   "id": "fa9cb39f",
   "metadata": {},
   "outputs": [
    {
     "name": "stdout",
     "output_type": "stream",
     "text": [
      "Bài thơ đã thay thế  \"...\n",
      "Kiếp con người mỏng manh như là gió\n",
      "Sống trên đời có được mấy lần vui\n",
      "Sao phải đau mà không thể mỉm cười\n",
      "Gắng buông nỗi ngậm ngùi nơi quá khứ\n",
      "\n",
      "Nếu có thể sao ta không làm thử\n",
      "Để tâm hồn khắc hai chữ bình an\n",
      "Cho đôi chân bước thanh thản nhẹ nhàng\n",
      "Dù hướng đời có muôn ngàn đá sỏi\n",
      "...\"\n"
     ]
    }
   ],
   "source": [
    "# Code lab 2  bài 2 ở đây\n",
    "\n",
    "Bt = \"\"\"\n",
    "Kiếp con người mỏng manh như là gió\n",
    "Sống trên đời có được mấy lần vui\n",
    "Sao phải đau mà không thể mỉm cười\n",
    "Gắng buông nỗi ngậm ngùi nơi quá khứ\n",
    "\n",
    "Nếu có thể sao ta không làm thử\n",
    "Để tâm hồn khắc hai chữ bình an\n",
    "Cho đôi chân bước thanh thản nhẹ nhàng\n",
    "Dù hướng đời có muôn ngàn đá sỏi\n",
    "\"\"\"\n",
    "ThayThe = Bt.replace(\"bình an\",\"hạnh phúc\")\n",
    "ThayThe = '\"...' + Bt + '...\"'\n",
    "print(\"Bài thơ đã thay thế \", ThayThe)\n",
    "\n",
    "\n",
    "\n",
    "\n",
    " "
   ]
  },
  {
   "cell_type": "markdown",
   "id": "0f2483fe",
   "metadata": {},
   "source": [
    "## Lab 2 - Bài 3"
   ]
  },
  {
   "cell_type": "code",
   "execution_count": 2,
   "id": "7034990b",
   "metadata": {},
   "outputs": [
    {
     "name": "stdout",
     "output_type": "stream",
     "text": [
      "Phương trình có nghiệm:  -1.5\n"
     ]
    }
   ],
   "source": [
    "# Code lab 2  bài 3 ở đây\n",
    "a = float(input())\n",
    "b = float(input())\n",
    "if a == 0:\n",
    "    if b == 0: \n",
    "        print(\"Phương trình vô số nghiệm\")\n",
    "    else:\n",
    "        print(\"Phương trình vô nghiệm\")\n",
    "else: \n",
    "    x = -b/a\n",
    "    print(\"Phương trình có nghiệm: \",x)\n",
    "\n"
   ]
  },
  {
   "cell_type": "markdown",
   "id": "d36ea3d3",
   "metadata": {},
   "source": [
    "## Lab 2 - Bài 4"
   ]
  },
  {
   "cell_type": "code",
   "execution_count": null,
   "id": "4c707ec1",
   "metadata": {},
   "outputs": [],
   "source": [
    "# code lab 2 bài 4 ở đây\n",
    "import math\n",
    "a = float(input())\n",
    "b = float(input())\n",
    "c = float(input())\n",
    "if a == 0:\n",
    "    if b == 0:\n",
    "        if c == 0:\n",
    "            print(\"Phương trình có vô số nghiệm\")\n",
    "        else:\n",
    "            print(\"Phương trình vô nghiệm\")\n",
    "    else:\n",
    "        x = -c / b\n",
    "        print(\"Phương trình bậc nhất, nghiệm:\", x)\n",
    "else: \n",
    "    Delta = b*b - 4*a*c\n",
    "    if Delta < 0: \n",
    "        print(\"Phương trình vô nghiệm\")\n",
    "    elif Delta == 0: \n",
    "        x1 = x2 = -b/(2*a) \n",
    "        print(\"Ngiệm kép\",x1)\n",
    "    else: \n",
    "        CanBacHai = math.sqrt(Delta)\n",
    "        x1 =  (-b + CanBacHai)/(2*a)\n",
    "        x2 =  (-b - CanBacHai)/(2*a)\n",
    "        print(f\"Nghiệm x1 = {x1} x2 = {x2}\")\n",
    "\n",
    "\n"
   ]
  },
  {
   "cell_type": "markdown",
   "id": "e2b41d4a",
   "metadata": {},
   "source": [
    "## Lab 2 - Bài 5: bài tập làm thêm"
   ]
  },
  {
   "cell_type": "code",
   "execution_count": null,
   "id": "0e0172f7",
   "metadata": {},
   "outputs": [],
   "source": [
    "# code lab 2  bài làm thêm ở đây\n",
    "import math  \n",
    "a = float(input())\n",
    "b = float(input())\n",
    "# Phép tính cơ bản \n",
    "Dau = input(\"Nhập dấu phép tính\")\n",
    "if Dau == \"+\": \n",
    "    KetQua = a + b \n",
    "    print(f\"Kết quả: {a} + {b} = {KetQua} \")\n",
    "if Dau == \"-\":\n",
    "    KetQua = a - b \n",
    "    print(f\"Kết quả: {a} - {b} = {KetQua}\")\n",
    "if Dau == \"*\":\n",
    "    KetQua = a * b \n",
    "    print (f\"Kết quả: {a} * {b} = {KetQua}\")\n",
    "if Dau == \"/\":\n",
    "    KetQua = a / b \n",
    "    print(f\"Kết quả: {a} / {b} = {KetQua}\")\n",
    "# Hàm lượng giác \n",
    "Goc = float(input(\"nhập góc: \"))\n",
    "Radian = math.radians(Goc)\n",
    "Sin = math.sin(Radian)\n",
    "Cos = math.cos(Radian)\n",
    "if Cos == 0:\n",
    "    print(\"Tan không xác định góc\",Goc)\n",
    "else:\n",
    "    Tan = math.tan(Radian)\n",
    "    print(f\"Tan {Goc} = {Tan}\")\n",
    "print(f\"Sin {Goc} = {Sin}\")\n",
    "print(f\"Cos {Goc} = {Cos}\")\n",
    "#\n"
   ]
  }
 ],
 "metadata": {
  "kernelspec": {
   "display_name": "Python 3",
   "language": "python",
   "name": "python3"
  },
  "language_info": {
   "codemirror_mode": {
    "name": "ipython",
    "version": 3
   },
   "file_extension": ".py",
   "mimetype": "text/x-python",
   "name": "python",
   "nbconvert_exporter": "python",
   "pygments_lexer": "ipython3",
   "version": "3.13.7"
  }
 },
 "nbformat": 4,
 "nbformat_minor": 5
}
