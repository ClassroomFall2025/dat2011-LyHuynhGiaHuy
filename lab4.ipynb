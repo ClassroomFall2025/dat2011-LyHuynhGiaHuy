{
 "cells": [
  {
   "cell_type": "markdown",
   "id": "fdeff819",
   "metadata": {},
   "source": [
    "# Sinh Viên thực hiện Lab 4 ở Đây"
   ]
  },
  {
   "cell_type": "markdown",
   "id": "acc5d7dc",
   "metadata": {},
   "source": [
    "## Lab 1 - Bài 1"
   ]
  },
  {
   "cell_type": "code",
   "execution_count": null,
   "id": "001e0507",
   "metadata": {},
   "outputs": [],
   "source": [
    "# Code lab 4 bài 1 ở đây\n",
    "import LAB4 \n",
    "Kn = float(input(\"Nhập khối nước: \"))\n",
    "T = LAB4.TinhTienNuoc(Kn)\n",
    "print(\"Tiền Nước: \",T)\n",
    "    \n"
   ]
  },
  {
   "cell_type": "markdown",
   "id": "c0835310",
   "metadata": {},
   "source": [
    "## Lab 4 - Bài 2"
   ]
  },
  {
   "cell_type": "code",
   "execution_count": null,
   "id": "fa9cb39f",
   "metadata": {},
   "outputs": [
    {
     "ename": "ModuleNotFoundError",
     "evalue": "No module named 'LAB4'",
     "output_type": "error",
     "traceback": [
      "\u001b[31m---------------------------------------------------------------------------\u001b[39m",
      "\u001b[31mModuleNotFoundError\u001b[39m                       Traceback (most recent call last)",
      "\u001b[36mCell\u001b[39m\u001b[36m \u001b[39m\u001b[32mIn[1]\u001b[39m\u001b[32m, line 2\u001b[39m\n\u001b[32m      1\u001b[39m \u001b[38;5;66;03m# Code lab 4  bài 2 ở đây\u001b[39;00m\n\u001b[32m----> \u001b[39m\u001b[32m2\u001b[39m \u001b[38;5;28;01mimport\u001b[39;00m\u001b[38;5;250m \u001b[39m\u001b[34;01mLAB4\u001b[39;00m \n\u001b[32m      3\u001b[39m Kn = \u001b[38;5;28mfloat\u001b[39m(\u001b[38;5;28minput\u001b[39m(\u001b[33m\"\u001b[39m\u001b[33mNhập khối nước: \u001b[39m\u001b[33m\"\u001b[39m))\n\u001b[32m      4\u001b[39m T = LAB4.TinhTienNuoc(Kn)\n",
      "\u001b[31mModuleNotFoundError\u001b[39m: No module named 'LAB4'"
     ]
    }
   ],
   "source": [
    "# Code lab 4  bài 2 ở đây\n",
    "import LAB4\n",
    "Bdx = int(input(\"Số bánh đậu xanh: \"))\n",
    "Btc = int(input(\"Số bánh thập cẩm: \"))\n",
    "Bd = int(input(\"Số bánh dẻo: \"))\n",
    "Nl = LAB4.TinhNguyenLieu(Bdx, Btc, Bd)\n",
    "print(f\"Đường: \"{Nl[\"sugar\"]})\n",
    "print(f\"Đậu: \"{Nl[\"bean\"]})"
   ]
  },
  {
   "cell_type": "markdown",
   "id": "0f2483fe",
   "metadata": {},
   "source": [
    "## Lab 4 - Bài 3"
   ]
  },
  {
   "cell_type": "code",
   "execution_count": null,
   "id": "7034990b",
   "metadata": {},
   "outputs": [],
   "source": [
    "# Code lab 4  bài 3 ở đây\n",
    "def LocSoChan():\n",
    "    try:\n",
    "        Sn = []\n",
    "        while True:\n",
    "            s = input(\"Nhập số nguyên hoặc s để dừng\")\n",
    "            if s == \"s\":\n",
    "                break\n",
    "            Sn.append(int(s))\n",
    "        Nsn = list(filter(lambda x: x % 2 == 0, Sn))\n",
    "        print(\"các số chẳn: \",Nsn)\n",
    "    except ValueError:\n",
    "        print(\"Lỗi\")\n",
    "        "
   ]
  },
  {
   "cell_type": "markdown",
   "id": "d36ea3d3",
   "metadata": {},
   "source": [
    "## Lab 4 - Bài 4"
   ]
  },
  {
   "cell_type": "code",
   "execution_count": null,
   "id": "4c707ec1",
   "metadata": {},
   "outputs": [],
   "source": [
    "# code lab 4 bài 4 ở đây\n",
    "import LAB4\n",
    "while True:\n",
    "    print(\"1/Tính tiền nước\")\n",
    "    print(\"2/Tính nguyên liệu\")\n",
    "    print(\"3/Tìm số chẳn\")\n",
    "    print(\"4/ Thoát\")\n",
    "    try:\n",
    "        C = int(input(\"Chọn chức năng: \"))\n",
    "        if C == 1:\n",
    "            Skn = float(input(\"Nhập số khối nước: \"))\n",
    "            print(\"Tiền nước: \", LAB4.TinhTienNuoc(Skn))\n",
    "        elif C == 2:\n",
    "            Dx = int(input(\"Số bánh đậu xanh: \"))\n",
    "            Tc = int(input(\"Số bánh thập cẩm: \"))\n",
    "            D = int(input(\"Số bánh dẻo: \"))\n",
    "            print(\"Nguyên liệu: \", LAB4.TinhNguyenLieu(Dx, Tc, D))\n",
    "        elif C == 3:\n",
    "            LAB4.LocSoChan()\n",
    "        elif C == 4:\n",
    "            print(\"Tạm biệt\")\n",
    "            break\n",
    "        else: \n",
    "            print(\" Chọn 1-4\")\n",
    "    except:\n",
    "        print(\"Lỗi\")\n",
    "    \n"
   ]
  },
  {
   "cell_type": "markdown",
   "id": "e2b41d4a",
   "metadata": {},
   "source": [
    "## Lab 4 - Bài 5: bài tập làm thêm"
   ]
  },
  {
   "cell_type": "code",
   "execution_count": null,
   "id": "0e0172f7",
   "metadata": {},
   "outputs": [],
   "source": [
    "# code lab 4  bài làm thêm ở đây "
   ]
  }
 ],
 "metadata": {
  "kernelspec": {
   "display_name": "Python 3",
   "language": "python",
   "name": "python3"
  },
  "language_info": {
   "codemirror_mode": {
    "name": "ipython",
    "version": 3
   },
   "file_extension": ".py",
   "mimetype": "text/x-python",
   "name": "python",
   "nbconvert_exporter": "python",
   "pygments_lexer": "ipython3",
   "version": "3.13.7"
  }
 },
 "nbformat": 4,
 "nbformat_minor": 5
}
