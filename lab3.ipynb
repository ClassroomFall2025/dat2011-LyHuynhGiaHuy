{
 "cells": [
  {
   "cell_type": "markdown",
   "id": "fdeff819",
   "metadata": {},
   "source": [
    "# Sinh Viên thực hiện Lab 3 ở Đây"
   ]
  },
  {
   "cell_type": "markdown",
   "id": "acc5d7dc",
   "metadata": {},
   "source": [
    "## Lab 3 - Bài 1"
   ]
  },
  {
   "cell_type": "code",
   "execution_count": 1,
   "id": "001e0507",
   "metadata": {},
   "outputs": [
    {
     "name": "stdout",
     "output_type": "stream",
     "text": [
      "Nhập số hoặc q để thoát chương trình\n",
      "Nhập số hoặc q để thoát chương trình\n",
      "Nhập số hoặc q để thoát chương trình\n"
     ]
    },
    {
     "ename": "AttributeError",
     "evalue": "'str' object has no attribute 'append'",
     "output_type": "error",
     "traceback": [
      "\u001b[31m---------------------------------------------------------------------------\u001b[39m",
      "\u001b[31mAttributeError\u001b[39m                            Traceback (most recent call last)",
      "\u001b[36mCell\u001b[39m\u001b[36m \u001b[39m\u001b[32mIn[1]\u001b[39m\u001b[32m, line 10\u001b[39m\n\u001b[32m      8\u001b[39m \u001b[38;5;28;01mtry\u001b[39;00m:\n\u001b[32m      9\u001b[39m     Pt = \u001b[38;5;28mint\u001b[39m(L)\n\u001b[32m---> \u001b[39m\u001b[32m10\u001b[39m     \u001b[43mL\u001b[49m\u001b[43m.\u001b[49m\u001b[43mappend\u001b[49m(Pt)\n\u001b[32m     11\u001b[39m \u001b[38;5;28;01mexcept\u001b[39;00m \u001b[38;5;167;01mValueError\u001b[39;00m:\n\u001b[32m     12\u001b[39m     \u001b[38;5;28mprint\u001b[39m(\u001b[33m\"\u001b[39m\u001b[33mNhập số hoặc q để thoát chương trình\u001b[39m\u001b[33m\"\u001b[39m)\n",
      "\u001b[31mAttributeError\u001b[39m: 'str' object has no attribute 'append'"
     ]
    }
   ],
   "source": [
    "# Code lab 3 bài 1 ở đây\n",
    "L = []\n",
    "while True:\n",
    "    L = input(\"Nhập dãy số: \")\n",
    "    if L == \"q\":\n",
    "        break\n",
    "    else:\n",
    "        try:\n",
    "            Pt = int(L)\n",
    "            L.append(Pt)\n",
    "        except ValueError:\n",
    "            print(\"Nhập số hoặc q để thoát chương trình\")\n",
    "\n",
    "print(L)\n",
    "L.sort()\n",
    "print(\"sắp xếp: \",L)\n",
    "T = 0\n",
    "D = 0 \n",
    "for B in L:\n",
    "    if B % 3 == 0:\n",
    "        T = T + B\n",
    "        D = D + 1\n",
    "        Tbc = T/D\n",
    "if D > 0: \n",
    "    print(\"Trung bình công = \",Tbc)\n",
    "else:\n",
    "    print(\"không có phần tử chia hết cho 3\")\n",
    "\n",
    "# Bài yêu cầu \n",
    "L.sort(reverse=True)\n",
    "H = len(L) - 1 \n",
    "print(\"Giảm dần: \",L)\n",
    "print(\"Vị trí: \",H)\n",
    "\n",
    "\n",
    "\n",
    "\n",
    "\n",
    "\n",
    "\n",
    "\n"
   ]
  },
  {
   "cell_type": "markdown",
   "id": "c0835310",
   "metadata": {},
   "source": [
    "## Lab 3 - Bài 2"
   ]
  },
  {
   "cell_type": "code",
   "execution_count": null,
   "id": "fa9cb39f",
   "metadata": {},
   "outputs": [],
   "source": [
    "# Code lab 3  bài 2 ở đây\n",
    "Sv = {}\n",
    "while True:\n",
    "    Sv[\"Họ tên\"] = input(\"Họ và tên: \")\n",
    "    Sv[\"Điểm\"]= float(input(\"Điểm: \"))\n",
    "    if Sv[\"Họ tên\"] == \"Hết\":\n",
    "        break\n",
    "    if Sv[\"Điểm\"] < 5 and Sv[\"Điểm\"] <= 10: \n",
    "        Sv[\"Xếp loại\"] = \"Yếu\"\n",
    "    elif Sv[\"Điểm\"] < 7:\n",
    "        Sv[\"Xếp loại\"] = \"Trung bình\"\n",
    "    elif Sv[\"Điểm\"] < 8:\n",
    "        Sv[\"Xếp loại\"] = \"Khá\"\n",
    "    elif Sv[\"Điểm\"] < 9:\n",
    "        Sv[\"Xếp loại\"] = \"Giỏi\"\n",
    "    else:\n",
    "        Sv[\"Xếp loại\"] = \"Xuất sắc\"\n",
    "    print(\"Thông tíninh viên: \",Sv)\n",
    "\n",
    "# Bài yêu cầu \n",
    "\n",
    "Sv = []\n",
    "Ht = input(\"Nhập học và tên: \")\n",
    "Đ = float(input(\"Điểm: \"))\n",
    "if Đ < 5:\n",
    "    Xl = \"Yếu\"\n",
    "elif Đ < 7:\n",
    "    Xl = \"Trung bình\"\n",
    "elif Đ < 8:\n",
    "    Xl = \"Khá\"\n",
    "elif Đ < 9:\n",
    "    Xl = \"Giỏi\"\n",
    "else: \n",
    "    Xl = \"Xuất sắc\"\n",
    "Sv.append(Ht)\n",
    "Sv.append(Đ)\n",
    "Sv.append(Xl)\n",
    "print(\"Thông tin sinh viên: \",Sv)"
   ]
  },
  {
   "cell_type": "markdown",
   "id": "0f2483fe",
   "metadata": {},
   "source": [
    "## Lab 3 - Bài 3"
   ]
  },
  {
   "cell_type": "code",
   "execution_count": 6,
   "id": "7034990b",
   "metadata": {},
   "outputs": [
    {
     "name": "stdout",
     "output_type": "stream",
     "text": [
      "không là số nguyên tố\n"
     ]
    }
   ],
   "source": [
    "# Code lab 3  bài 3 ở đây\n",
    "n = int(input(\"Nhập số nguyên: \"))\n",
    "ok = True \n",
    "i = 2 \n",
    "while i < (n - 1):\n",
    "    if n % i == 0:\n",
    "        ok = False\n",
    "        break\n",
    "    i +=1 \n",
    "if ok:\n",
    "    print(\"Là số nguyên tố\")\n",
    "else:\n",
    "    print(\"không là số nguyên tố\")"
   ]
  },
  {
   "cell_type": "markdown",
   "id": "d36ea3d3",
   "metadata": {},
   "source": [
    "## Lab 3 - Bài 4"
   ]
  },
  {
   "cell_type": "code",
   "execution_count": null,
   "id": "4c707ec1",
   "metadata": {},
   "outputs": [
    {
     "name": "stdout",
     "output_type": "stream",
     "text": [
      "Bảng nhân 1\n",
      "1 x 1 = 1\n",
      "1 x 2 = 2\n",
      "1 x 3 = 3\n",
      "1 x 4 = 4\n",
      "1 x 5 = 5\n",
      "1 x 6 = 6\n",
      "1 x 7 = 7\n",
      "1 x 8 = 8\n",
      "1 x 9 = 9\n",
      "Bảng nhân 2\n",
      "2 x 1 = 2\n",
      "2 x 2 = 4\n",
      "2 x 3 = 6\n",
      "2 x 4 = 8\n",
      "2 x 5 = 10\n",
      "2 x 6 = 12\n",
      "2 x 7 = 14\n",
      "2 x 8 = 16\n",
      "2 x 9 = 18\n",
      "Bảng nhân 3\n",
      "3 x 1 = 3\n",
      "3 x 2 = 6\n",
      "3 x 3 = 9\n",
      "3 x 4 = 12\n",
      "3 x 5 = 15\n",
      "3 x 6 = 18\n",
      "3 x 7 = 21\n",
      "3 x 8 = 24\n",
      "3 x 9 = 27\n",
      "Bảng nhân 4\n",
      "4 x 1 = 4\n",
      "4 x 2 = 8\n",
      "4 x 3 = 12\n",
      "4 x 4 = 16\n",
      "4 x 5 = 20\n",
      "4 x 6 = 24\n",
      "4 x 7 = 28\n",
      "4 x 8 = 32\n",
      "4 x 9 = 36\n",
      "Bảng nhân 5\n",
      "5 x 1 = 5\n",
      "5 x 2 = 10\n",
      "5 x 3 = 15\n",
      "5 x 4 = 20\n",
      "5 x 5 = 25\n",
      "5 x 6 = 30\n",
      "5 x 7 = 35\n",
      "5 x 8 = 40\n",
      "5 x 9 = 45\n",
      "Bảng nhân 6\n",
      "6 x 1 = 6\n",
      "6 x 2 = 12\n",
      "6 x 3 = 18\n",
      "6 x 4 = 24\n",
      "6 x 5 = 30\n",
      "6 x 6 = 36\n",
      "6 x 7 = 42\n",
      "6 x 8 = 48\n",
      "6 x 9 = 54\n",
      "Bảng nhân 7\n",
      "7 x 1 = 7\n",
      "7 x 2 = 14\n",
      "7 x 3 = 21\n",
      "7 x 4 = 28\n",
      "7 x 5 = 35\n",
      "7 x 6 = 42\n",
      "7 x 7 = 49\n",
      "7 x 8 = 56\n",
      "7 x 9 = 63\n",
      "Bảng nhân 8\n",
      "8 x 1 = 8\n",
      "8 x 2 = 16\n",
      "8 x 3 = 24\n",
      "8 x 4 = 32\n",
      "8 x 5 = 40\n",
      "8 x 6 = 48\n",
      "8 x 7 = 56\n",
      "8 x 8 = 64\n",
      "8 x 9 = 72\n",
      "Bảng nhân 9\n",
      "9 x 1 = 9\n",
      "9 x 2 = 18\n",
      "9 x 3 = 27\n",
      "9 x 4 = 36\n",
      "9 x 5 = 45\n",
      "9 x 6 = 54\n",
      "9 x 7 = 63\n",
      "9 x 8 = 72\n",
      "9 x 9 = 81\n"
     ]
    }
   ],
   "source": [
    "# code lab 3 bài 4 ở đây\n",
    "for i in range(1,10):\n",
    "    print(\"Bảng nhân %d\"%i)\n",
    "    for j in range(1,10):\n",
    "        print(\"%d x %d = %d\"%(i, j, i * j))\n",
    "    \n",
    "# Bài yêu cầu \n",
    "for i in range(1,10):\n",
    "    for j in range(1,10):\n",
    "        print(\"%d x %d = %d\"%(i, j, i * j), end= \"\\t\")\n",
    "    print()\n"
   ]
  },
  {
   "cell_type": "markdown",
   "id": "e2b41d4a",
   "metadata": {},
   "source": [
    "## Lab 3 - Bài 5: bài tập làm thêm"
   ]
  },
  {
   "cell_type": "code",
   "execution_count": null,
   "id": "0e0172f7",
   "metadata": {},
   "outputs": [],
   "source": [
    "# code lab 3  bài làm thêm ở đây "
   ]
  }
 ],
 "metadata": {
  "kernelspec": {
   "display_name": "Python 3 (ipykernel)",
   "language": "python",
   "name": "python3"
  }
 },
 "nbformat": 4,
 "nbformat_minor": 5
}
