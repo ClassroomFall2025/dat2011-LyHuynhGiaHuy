{
 "cells": [
  {
   "cell_type": "markdown",
   "id": "fdeff819",
   "metadata": {},
   "source": [
    "# Sinh Viên thực hiện Lab 3 ở Đây"
   ]
  },
  {
   "cell_type": "markdown",
   "id": "acc5d7dc",
   "metadata": {},
   "source": [
    "## Lab 3 - Bài 1"
   ]
  },
  {
   "cell_type": "code",
   "execution_count": null,
   "id": "001e0507",
   "metadata": {},
   "outputs": [
    {
     "ename": "TypeError",
     "evalue": "float() argument must be a string or a real number, not 'list'",
     "output_type": "error",
     "traceback": [
      "\u001b[31m---------------------------------------------------------------------------\u001b[39m",
      "\u001b[31mTypeError\u001b[39m                                 Traceback (most recent call last)",
      "\u001b[36mCell\u001b[39m\u001b[36m \u001b[39m\u001b[32mIn[26]\u001b[39m\u001b[32m, line 2\u001b[39m\n\u001b[32m      1\u001b[39m \u001b[38;5;66;03m# Code lab 3 bài 1 ở đây\u001b[39;00m\n\u001b[32m----> \u001b[39m\u001b[32m2\u001b[39m L = \u001b[38;5;28;43mfloat\u001b[39;49m\u001b[43m(\u001b[49m\u001b[38;5;28;43minput\u001b[39;49m\u001b[43m(\u001b[49m\u001b[33;43m\"\u001b[39;49m\u001b[33;43mNhập dãy số: \u001b[39;49m\u001b[33;43m\"\u001b[39;49m\u001b[43m)\u001b[49m\u001b[43m.\u001b[49m\u001b[43msplit\u001b[49m\u001b[43m(\u001b[49m\u001b[33;43m\"\u001b[39;49m\u001b[33;43m,\u001b[39;49m\u001b[33;43m\"\u001b[39;49m\u001b[43m)\u001b[49m\u001b[43m)\u001b[49m\n\u001b[32m      3\u001b[39m L.sort()\n\u001b[32m      4\u001b[39m \u001b[38;5;28mprint\u001b[39m(\u001b[33m\"\u001b[39m\u001b[33msắp xếp: \u001b[39m\u001b[33m\"\u001b[39m,L)\n",
      "\u001b[31mTypeError\u001b[39m: float() argument must be a string or a real number, not 'list'"
     ]
    }
   ],
   "source": [
    "# Code lab 3 bài 1 ở đây\n",
    "L = float(map(\"Nhập dãy số: \").split(\",\"))\n",
    "L.sort()\n",
    "print(\"sắp xếp: \",L)\n",
    "\n",
    "\n",
    "T = 0\n",
    "D = 0 \n",
    "for B in L:\n",
    "    if B % 3 == 0:\n",
    "        T = T + B\n",
    "        D = D + 1\n",
    "        Tbc = T/D\n",
    "if D > 0: \n",
    "    print(\"Trung bình công = \",Tbc)\n",
    "else:\n",
    "    print(\"không có phần tử chia hết cho 3\")\n",
    "\n",
    "# Bài yêu cầu \n",
    "L.sort(reverse=True)\n",
    "H = len(L) - 1 \n",
    "print(\"Giảm dần: \",L)\n",
    "print(\"Vị trí: \",H)\n",
    "\n",
    "\n",
    "\n",
    "\n",
    "\n",
    "\n",
    "\n",
    "\n"
   ]
  },
  {
   "cell_type": "markdown",
   "id": "c0835310",
   "metadata": {},
   "source": [
    "## Lab 3 - Bài 2"
   ]
  },
  {
   "cell_type": "code",
   "execution_count": 8,
   "id": "fa9cb39f",
   "metadata": {},
   "outputs": [
    {
     "name": "stdout",
     "output_type": "stream",
     "text": [
      "Thông tíninh viên:  {'Họ tên': 'Huy', 'Điểm': 9.0, 'Xếp loại': 'Xuất sắc'}\n",
      "Thông tin sinh viên:  ['Huy', 9.0, 'Xuất sắc']\n"
     ]
    }
   ],
   "source": [
    "# Code lab 3  bài 2 ở đây\n",
    "Sv = {}\n",
    "Sv[\"Họ tên\"] = input(\"Họ và tên: \")\n",
    "Sv[\"Điểm\"]= float(input(\"Điểm: \"))\n",
    "if Sv[\"Điểm\"] < 5:\n",
    "    Sv[\"Xếp loại\"] = \"Yếu\"\n",
    "elif Sv[\"Điểm\"] < 7:\n",
    "    Sv[\"Xếp loại\"] = \"Trung bình\"\n",
    "elif Sv[\"Điểm\"] < 8:\n",
    "    Sv[\"Xếp loại\"] = \"Khá\"\n",
    "elif Sv[\"Điểm\"] < 9:\n",
    "    Sv[\"Xếp loại\"] = \"Giỏi\"\n",
    "else:\n",
    "    Sv[\"Xếp loại\"] = \"Xuất sắc\"\n",
    "print(\"Thông tíninh viên: \",Sv)\n",
    "\n",
    "# Bài yêu cầu \n",
    "\n",
    "Sv = []\n",
    "Ht = input(\"Nhập học và tên: \")\n",
    "Đ = float(input(\"Điểm: \"))\n",
    "if Đ < 5:\n",
    "    Xl = \"Yếu\"\n",
    "elif Đ < 7:\n",
    "    Xl = \"Trung bình\"\n",
    "elif Đ < 8:\n",
    "    Xl = \"Khá\"\n",
    "elif Đ < 9:\n",
    "    Xl = \"Giỏi\"\n",
    "else: \n",
    "    Xl = \"Xuất sắc\"\n",
    "Sv.append(Ht)\n",
    "Sv.append(Đ)\n",
    "Sv.append(Xl)\n",
    "print(\"Thông tin sinh viên: \",Sv)"
   ]
  },
  {
   "cell_type": "markdown",
   "id": "0f2483fe",
   "metadata": {},
   "source": [
    "## Lab 3 - Bài 3"
   ]
  },
  {
   "cell_type": "code",
   "execution_count": 6,
   "id": "7034990b",
   "metadata": {},
   "outputs": [
    {
     "name": "stdout",
     "output_type": "stream",
     "text": [
      "không là số nguyên tố\n"
     ]
    }
   ],
   "source": [
    "# Code lab 3  bài 3 ở đây\n",
    "n = int(input(\"Nhập số nguyên: \"))\n",
    "ok = True \n",
    "i = 2 \n",
    "while i < (n - 1):\n",
    "    if n % i == 0:\n",
    "        ok = False\n",
    "        break\n",
    "    i +=1 \n",
    "if ok:\n",
    "    print(\"Là số nguyên tố\")\n",
    "else:\n",
    "    print(\"không là số nguyên tố\")"
   ]
  },
  {
   "cell_type": "markdown",
   "id": "d36ea3d3",
   "metadata": {},
   "source": [
    "## Lab 3 - Bài 4"
   ]
  },
  {
   "cell_type": "code",
   "execution_count": null,
   "id": "4c707ec1",
   "metadata": {},
   "outputs": [],
   "source": [
    "# code lab 3 bài 4 ở đây\n"
   ]
  },
  {
   "cell_type": "markdown",
   "id": "e2b41d4a",
   "metadata": {},
   "source": [
    "## Lab 3 - Bài 5: bài tập làm thêm"
   ]
  },
  {
   "cell_type": "code",
   "execution_count": null,
   "id": "0e0172f7",
   "metadata": {},
   "outputs": [],
   "source": [
    "# code lab 3  bài làm thêm ở đây "
   ]
  }
 ],
 "metadata": {
  "kernelspec": {
   "display_name": "Python 3",
   "language": "python",
   "name": "python3"
  },
  "language_info": {
   "codemirror_mode": {
    "name": "ipython",
    "version": 3
   },
   "file_extension": ".py",
   "mimetype": "text/x-python",
   "name": "python",
   "nbconvert_exporter": "python",
   "pygments_lexer": "ipython3",
   "version": "3.13.7"
  }
 },
 "nbformat": 4,
 "nbformat_minor": 5
}
