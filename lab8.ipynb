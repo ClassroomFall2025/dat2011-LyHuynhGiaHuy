{
 "cells": [
  {
   "cell_type": "markdown",
   "id": "fdeff819",
   "metadata": {},
   "source": [
    "# Sinh Viên thực hiện Lab 8 ở Đây"
   ]
  },
  {
   "cell_type": "markdown",
   "id": "acc5d7dc",
   "metadata": {},
   "source": [
    "## Lab 8 - Bài 1"
   ]
  },
  {
   "cell_type": "code",
   "execution_count": null,
   "id": "001e0507",
   "metadata": {},
   "outputs": [],
   "source": [
    "# Code lab 8 bài 1 ở đây\n",
    "HT = input(\"Nhập họ và tên: \").strip()\n",
    "H = HT.split()\n",
    "Ho = H[0].upper()\n",
    "T = H[-1].upper()\n",
    "TD =\" \".join(H[1:-1]) if len(H) > 2 else\" \"\n",
    "print(\"Họ: \", Ho)\n",
    "print(\"Tên: \", T)\n",
    "print(\"Tên đệm: \",TD)"
   ]
  },
  {
   "cell_type": "markdown",
   "id": "c0835310",
   "metadata": {},
   "source": [
    "## Lab 8 - Bài 2"
   ]
  },
  {
   "cell_type": "code",
   "execution_count": null,
   "id": "fa9cb39f",
   "metadata": {},
   "outputs": [],
   "source": [
    "# Code lab 8  bài 2 ở đây\n",
    "import re \n",
    "SV = {}\n",
    "SV[\"HT\"] = input(\"Nhập họ và tên: \")\n",
    "SV[\"Massv\"] = input(\"Nhập mã số sinh viên: \")\n",
    "MSSV = r\"^PS\\d{5}$\"\n",
    "if not re.match(MSSV,SV[\"Massv\"]):\n",
    "    print(\"Mã số sinh viên không hợp lệ\")\n",
    "else:\n",
    "    print(\"Mã số sinh viên hợp lệ\")\n",
    "\n",
    "    \n",
    "\n"
   ]
  },
  {
   "cell_type": "markdown",
   "id": "0f2483fe",
   "metadata": {},
   "source": [
    "## Lab 8 - Bài 3"
   ]
  },
  {
   "cell_type": "code",
   "execution_count": null,
   "id": "fbd2b149",
   "metadata": {},
   "outputs": [],
   "source": [
    "import random \n",
    "S = [str(random.randint(0, 100)) for _ in range(1_000_000)]\n",
    "with open(\"S.txt\", \"w\") as file:\n",
    "    file.NN(\" \".join(S))\n",
    "print(\"Đã tạo file chứa một triệu số\")"
   ]
  },
  {
   "cell_type": "markdown",
   "id": "d36ea3d3",
   "metadata": {},
   "source": [
    "## Lab 8 - Bài 4"
   ]
  },
  {
   "cell_type": "code",
   "execution_count": null,
   "id": "4c707ec1",
   "metadata": {},
   "outputs": [],
   "source": [
    "# code lab 8 bài 4 ở đây\n",
    "import staristics\n",
    "with open(\"S.txt\", \"r\") as file:\n",
    "    T = file.read().split()\n",
    "T = list(map(int, T))\n",
    "TB = staristics.mean(T)\n",
    "DLC = staristics.stdev(T)\n",
    "print(\"Giá trị trung bình: \",TB)\n",
    "print(\"Độ lệch chuẩn: \",DLC)\n",
    "\n"
   ]
  },
  {
   "cell_type": "markdown",
   "id": "e2b41d4a",
   "metadata": {},
   "source": [
    "## Lab 8 - Bài 5: bài tập làm thêm"
   ]
  },
  {
   "cell_type": "code",
   "execution_count": null,
   "id": "0e0172f7",
   "metadata": {},
   "outputs": [],
   "source": [
    "# code lab 8  bài làm thêm ở đây "
   ]
  }
 ],
 "metadata": {
  "kernelspec": {
   "display_name": "Python 3",
   "language": "python",
   "name": "python3"
  },
  "language_info": {
   "name": "python",
   "version": "3.13.2"
  }
 },
 "nbformat": 4,
 "nbformat_minor": 5
}
